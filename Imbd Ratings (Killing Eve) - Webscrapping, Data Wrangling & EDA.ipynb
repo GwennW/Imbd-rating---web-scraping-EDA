{
 "cells": [
  {
   "cell_type": "markdown",
   "metadata": {},
   "source": [
    "# Importing the usual libraries"
   ]
  },
  {
   "cell_type": "code",
   "execution_count": 223,
   "metadata": {},
   "outputs": [],
   "source": [
    "import requests\n",
    "from bs4 import BeautifulSoup\n",
    "import pandas as pd\n",
    "import numpy as np\n",
    "import seaborn as sns\n",
    "import matplotlib.pyplot as plt\n",
    "%matplotlib inline"
   ]
  },
  {
   "cell_type": "markdown",
   "metadata": {},
   "source": [
    "# Getting the webpage and parsing it through BeautifulSoup"
   ]
  },
  {
   "cell_type": "code",
   "execution_count": 8,
   "metadata": {},
   "outputs": [],
   "source": [
    "url='https://www.imdb.com/title/tt7016936/episodes?year=2018&ref_=ttep_ep_yr_pv'\n",
    "r=requests.get(url)\n",
    "soup=BeautifulSoup(r.text,'html.parser')\n",
    "results=soup.find_all('div',attrs={'class':'info'})"
   ]
  },
  {
   "cell_type": "code",
   "execution_count": 10,
   "metadata": {},
   "outputs": [],
   "source": [
    "first_result=results[0]"
   ]
  },
  {
   "cell_type": "markdown",
   "metadata": {},
   "source": [
    "# Retrieving the main information for each show"
   ]
  },
  {
   "cell_type": "code",
   "execution_count": 361,
   "metadata": {},
   "outputs": [
    {
     "data": {
      "text/plain": [
       "'13 Apr. 2020'"
      ]
     },
     "execution_count": 361,
     "metadata": {},
     "output_type": "execute_result"
    }
   ],
   "source": [
    "#Air date\n",
    "first_result.find('div',attrs={'class':'airdate'}).text.strip()"
   ]
  },
  {
   "cell_type": "code",
   "execution_count": 21,
   "metadata": {},
   "outputs": [
    {
     "data": {
      "text/plain": [
       "'Nice Face'"
      ]
     },
     "execution_count": 21,
     "metadata": {},
     "output_type": "execute_result"
    }
   ],
   "source": [
    "#Episode Title\n",
    "first_result.find('strong').text"
   ]
  },
  {
   "cell_type": "code",
   "execution_count": 34,
   "metadata": {},
   "outputs": [
    {
     "data": {
      "text/plain": [
       "'8.7'"
      ]
     },
     "execution_count": 34,
     "metadata": {},
     "output_type": "execute_result"
    }
   ],
   "source": [
    "first_result.find_all('span')[1].text"
   ]
  },
  {
   "cell_type": "code",
   "execution_count": 38,
   "metadata": {},
   "outputs": [
    {
     "data": {
      "text/plain": [
       "'(3,932)'"
      ]
     },
     "execution_count": 38,
     "metadata": {},
     "output_type": "execute_result"
    }
   ],
   "source": [
    "first_result.find_all('span')[2].text"
   ]
  },
  {
   "cell_type": "code",
   "execution_count": 43,
   "metadata": {},
   "outputs": [
    {
     "data": {
      "text/plain": [
       "'When a Russian politician is murdered, a bored MI5 security officer is tasked with protecting the only witness and soon finds herself on a collision course with a violent and extraordinary assassin.'"
      ]
     },
     "execution_count": 43,
     "metadata": {},
     "output_type": "execute_result"
    }
   ],
   "source": [
    "first_result.find('div',attrs={'class':\"item_description\"}).text.strip()"
   ]
  },
  {
   "cell_type": "markdown",
   "metadata": {},
   "source": [
    "# Creating a couple of foor loops to retrieve the information of all episodes across several pages"
   ]
  },
  {
   "cell_type": "code",
   "execution_count": 51,
   "metadata": {},
   "outputs": [],
   "source": [
    "records=[]\n",
    "pages=np.arange(2018,2021)\n",
    "for page in pages:\n",
    "    \n",
    "    page='https://www.imdb.com/title/tt7016936/episodes?year='+ str(page) + '&ref_=ttep_ep_yr_pv'\n",
    "    r=requests.get(page)\n",
    "    soup=BeautifulSoup(r.text,'html.parser')\n",
    "    results=soup.find_all('div',attrs={'class':'info'})\n",
    "    first_result=results[0]\n",
    "    \n",
    "\n",
    "\n",
    "\n",
    "    for result in results:\n",
    "        date=result.find('div',attrs={'class':'airdate'}).text.strip()\n",
    "        title=result.find('strong').text\n",
    "        rating=result.find_all('span')[1].text\n",
    "        total_votes=result.find_all('span')[2].text\n",
    "        description=result.find('div',attrs={'class':\"item_description\"}).text.strip()\n",
    "        records.append((date,title,rating,total_votes,description))"
   ]
  },
  {
   "cell_type": "markdown",
   "metadata": {},
   "source": [
    "# Adding all the information into a dataframe"
   ]
  },
  {
   "cell_type": "code",
   "execution_count": 57,
   "metadata": {},
   "outputs": [],
   "source": [
    "df=pd.DataFrame(records)"
   ]
  },
  {
   "cell_type": "code",
   "execution_count": 59,
   "metadata": {},
   "outputs": [],
   "source": [
    "df=df.rename(columns={0:'Date',1:'Title',2:'Rating',3:'Total Votes',4:'Description'})"
   ]
  },
  {
   "cell_type": "code",
   "execution_count": 62,
   "metadata": {},
   "outputs": [
    {
     "data": {
      "text/html": [
       "<div>\n",
       "<style scoped>\n",
       "    .dataframe tbody tr th:only-of-type {\n",
       "        vertical-align: middle;\n",
       "    }\n",
       "\n",
       "    .dataframe tbody tr th {\n",
       "        vertical-align: top;\n",
       "    }\n",
       "\n",
       "    .dataframe thead th {\n",
       "        text-align: right;\n",
       "    }\n",
       "</style>\n",
       "<table border=\"1\" class=\"dataframe\">\n",
       "  <thead>\n",
       "    <tr style=\"text-align: right;\">\n",
       "      <th></th>\n",
       "      <th>Date</th>\n",
       "      <th>Title</th>\n",
       "      <th>Rating</th>\n",
       "      <th>Total Votes</th>\n",
       "      <th>Description</th>\n",
       "    </tr>\n",
       "  </thead>\n",
       "  <tbody>\n",
       "    <tr>\n",
       "      <th>0</th>\n",
       "      <td>2018-09-15</td>\n",
       "      <td>Nice Face</td>\n",
       "      <td>8.7</td>\n",
       "      <td>(3,933)</td>\n",
       "      <td>When a Russian politician is murdered, a bored...</td>\n",
       "    </tr>\n",
       "    <tr>\n",
       "      <th>1</th>\n",
       "      <td>2018-09-22</td>\n",
       "      <td>I'll Deal with Him Later</td>\n",
       "      <td>8.6</td>\n",
       "      <td>(3,532)</td>\n",
       "      <td>Eve is given the opportunity to lead a secret ...</td>\n",
       "    </tr>\n",
       "    <tr>\n",
       "      <th>2</th>\n",
       "      <td>2018-09-29</td>\n",
       "      <td>Don't I Know You?</td>\n",
       "      <td>8.7</td>\n",
       "      <td>(3,480)</td>\n",
       "      <td>After a killing in Berlin, Eve and Bill travel...</td>\n",
       "    </tr>\n",
       "    <tr>\n",
       "      <th>3</th>\n",
       "      <td>2018-10-06</td>\n",
       "      <td>Sorry Baby</td>\n",
       "      <td>8.7</td>\n",
       "      <td>(3,341)</td>\n",
       "      <td>A grieving Eve learns about the apparent exist...</td>\n",
       "    </tr>\n",
       "    <tr>\n",
       "      <th>4</th>\n",
       "      <td>2018-10-13</td>\n",
       "      <td>I Have a Thing About Bathrooms</td>\n",
       "      <td>8.7</td>\n",
       "      <td>(2,867)</td>\n",
       "      <td>After a terrifying close call with Villanelle,...</td>\n",
       "    </tr>\n",
       "    <tr>\n",
       "      <th>5</th>\n",
       "      <td>2018-10-20</td>\n",
       "      <td>Take Me to the Hole!</td>\n",
       "      <td>8.3</td>\n",
       "      <td>(2,580)</td>\n",
       "      <td>Villanelle is smuggled into a Russian prison o...</td>\n",
       "    </tr>\n",
       "    <tr>\n",
       "      <th>6</th>\n",
       "      <td>2018-10-27</td>\n",
       "      <td>I Don't Want to Be Free</td>\n",
       "      <td>8.5</td>\n",
       "      <td>(2,518)</td>\n",
       "      <td>Villanelle finds herself trapped in a dangerou...</td>\n",
       "    </tr>\n",
       "    <tr>\n",
       "      <th>7</th>\n",
       "      <td>2018-11-03</td>\n",
       "      <td>God, I'm Tired</td>\n",
       "      <td>8.5</td>\n",
       "      <td>(2,856)</td>\n",
       "      <td>As Villanelle takes a hostage as a bargaining ...</td>\n",
       "    </tr>\n",
       "    <tr>\n",
       "      <th>8</th>\n",
       "      <td>2019-06-08</td>\n",
       "      <td>Do You Know How to Dispose of a Body?</td>\n",
       "      <td>8.4</td>\n",
       "      <td>(2,314)</td>\n",
       "      <td>Eve is reeling from her act of violence agains...</td>\n",
       "    </tr>\n",
       "    <tr>\n",
       "      <th>9</th>\n",
       "      <td>2019-06-15</td>\n",
       "      <td>Nice and Neat</td>\n",
       "      <td>8.3</td>\n",
       "      <td>(1,990)</td>\n",
       "      <td>Villanelle finds a Good Samaritan to take her ...</td>\n",
       "    </tr>\n",
       "    <tr>\n",
       "      <th>10</th>\n",
       "      <td>2019-06-22</td>\n",
       "      <td>The Hungry Caterpillar</td>\n",
       "      <td>8.3</td>\n",
       "      <td>(1,864)</td>\n",
       "      <td>Villanelle's circumstances are looking bleak; ...</td>\n",
       "    </tr>\n",
       "    <tr>\n",
       "      <th>11</th>\n",
       "      <td>2019-06-29</td>\n",
       "      <td>Desperate Times</td>\n",
       "      <td>8.4</td>\n",
       "      <td>(1,817)</td>\n",
       "      <td>After the discovery of another dead body, Eve ...</td>\n",
       "    </tr>\n",
       "    <tr>\n",
       "      <th>12</th>\n",
       "      <td>2019-07-06</td>\n",
       "      <td>Smell Ya Later</td>\n",
       "      <td>8.4</td>\n",
       "      <td>(1,842)</td>\n",
       "      <td>The MI6 team make a pact with the devil in ord...</td>\n",
       "    </tr>\n",
       "    <tr>\n",
       "      <th>13</th>\n",
       "      <td>2019-07-13</td>\n",
       "      <td>I Hope You Like Missionary!</td>\n",
       "      <td>8.4</td>\n",
       "      <td>(1,751)</td>\n",
       "      <td>Villanelle uses her unrivaled infiltration ski...</td>\n",
       "    </tr>\n",
       "    <tr>\n",
       "      <th>14</th>\n",
       "      <td>2019-07-20</td>\n",
       "      <td>Wide Awake</td>\n",
       "      <td>8.6</td>\n",
       "      <td>(1,764)</td>\n",
       "      <td>Eve may have worrying competition for Villanel...</td>\n",
       "    </tr>\n",
       "    <tr>\n",
       "      <th>15</th>\n",
       "      <td>2019-07-27</td>\n",
       "      <td>You're Mine</td>\n",
       "      <td>8.8</td>\n",
       "      <td>(2,197)</td>\n",
       "      <td>Eve's mission is disastrously compromised; Car...</td>\n",
       "    </tr>\n",
       "    <tr>\n",
       "      <th>16</th>\n",
       "      <td>2020-04-13</td>\n",
       "      <td>Slowly Slowly Catchy Monkey</td>\n",
       "      <td>7.6</td>\n",
       "      <td>(1,557)</td>\n",
       "      <td>After Eve is shot by Villanelle, she's trying ...</td>\n",
       "    </tr>\n",
       "    <tr>\n",
       "      <th>17</th>\n",
       "      <td>2020-04-20</td>\n",
       "      <td>Management Sucks</td>\n",
       "      <td>7.7</td>\n",
       "      <td>(1,320)</td>\n",
       "      <td>Eve and Carolyn are reeling. Eve strikes up an...</td>\n",
       "    </tr>\n",
       "    <tr>\n",
       "      <th>18</th>\n",
       "      <td>2020-04-27</td>\n",
       "      <td>Meetings Have Biscuits</td>\n",
       "      <td>8.5</td>\n",
       "      <td>(1,448)</td>\n",
       "      <td>Villanelle agrees to a job which will take her...</td>\n",
       "    </tr>\n",
       "    <tr>\n",
       "      <th>19</th>\n",
       "      <td>2020-05-04</td>\n",
       "      <td>Still Got It</td>\n",
       "      <td>8.1</td>\n",
       "      <td>(1,152)</td>\n",
       "      <td>Eve is trying to patch things up with Niko; Vi...</td>\n",
       "    </tr>\n",
       "    <tr>\n",
       "      <th>20</th>\n",
       "      <td>2020-05-11</td>\n",
       "      <td>Are You from Pinner?</td>\n",
       "      <td>8.4</td>\n",
       "      <td>(1,441)</td>\n",
       "      <td>Villanelle visits her family in Russia, and wh...</td>\n",
       "    </tr>\n",
       "    <tr>\n",
       "      <th>21</th>\n",
       "      <td>2020-05-18</td>\n",
       "      <td>End of Game</td>\n",
       "      <td>7.5</td>\n",
       "      <td>(954)</td>\n",
       "      <td>As the investigation continues, Carolyn finds ...</td>\n",
       "    </tr>\n",
       "    <tr>\n",
       "      <th>22</th>\n",
       "      <td>2020-05-25</td>\n",
       "      <td>Beautiful Monster</td>\n",
       "      <td>8.1</td>\n",
       "      <td>(966)</td>\n",
       "      <td>Lack of progress in the investigation is frust...</td>\n",
       "    </tr>\n",
       "    <tr>\n",
       "      <th>23</th>\n",
       "      <td>2020-06-01</td>\n",
       "      <td>Are You Leading or Am I?</td>\n",
       "      <td>8.5</td>\n",
       "      <td>(1,257)</td>\n",
       "      <td>Konstantin tries to run; Eve and Villanelle tr...</td>\n",
       "    </tr>\n",
       "  </tbody>\n",
       "</table>\n",
       "</div>"
      ],
      "text/plain": [
       "         Date                                  Title Rating Total Votes  \\\n",
       "0  2018-09-15                              Nice Face    8.7     (3,933)   \n",
       "1  2018-09-22               I'll Deal with Him Later    8.6     (3,532)   \n",
       "2  2018-09-29                      Don't I Know You?    8.7     (3,480)   \n",
       "3  2018-10-06                             Sorry Baby    8.7     (3,341)   \n",
       "4  2018-10-13         I Have a Thing About Bathrooms    8.7     (2,867)   \n",
       "5  2018-10-20                   Take Me to the Hole!    8.3     (2,580)   \n",
       "6  2018-10-27                I Don't Want to Be Free    8.5     (2,518)   \n",
       "7  2018-11-03                         God, I'm Tired    8.5     (2,856)   \n",
       "8  2019-06-08  Do You Know How to Dispose of a Body?    8.4     (2,314)   \n",
       "9  2019-06-15                          Nice and Neat    8.3     (1,990)   \n",
       "10 2019-06-22                 The Hungry Caterpillar    8.3     (1,864)   \n",
       "11 2019-06-29                        Desperate Times    8.4     (1,817)   \n",
       "12 2019-07-06                         Smell Ya Later    8.4     (1,842)   \n",
       "13 2019-07-13            I Hope You Like Missionary!    8.4     (1,751)   \n",
       "14 2019-07-20                             Wide Awake    8.6     (1,764)   \n",
       "15 2019-07-27                            You're Mine    8.8     (2,197)   \n",
       "16 2020-04-13            Slowly Slowly Catchy Monkey    7.6     (1,557)   \n",
       "17 2020-04-20                       Management Sucks    7.7     (1,320)   \n",
       "18 2020-04-27                 Meetings Have Biscuits    8.5     (1,448)   \n",
       "19 2020-05-04                           Still Got It    8.1     (1,152)   \n",
       "20 2020-05-11                   Are You from Pinner?    8.4     (1,441)   \n",
       "21 2020-05-18                            End of Game    7.5       (954)   \n",
       "22 2020-05-25                      Beautiful Monster    8.1       (966)   \n",
       "23 2020-06-01               Are You Leading or Am I?    8.5     (1,257)   \n",
       "\n",
       "                                          Description  \n",
       "0   When a Russian politician is murdered, a bored...  \n",
       "1   Eve is given the opportunity to lead a secret ...  \n",
       "2   After a killing in Berlin, Eve and Bill travel...  \n",
       "3   A grieving Eve learns about the apparent exist...  \n",
       "4   After a terrifying close call with Villanelle,...  \n",
       "5   Villanelle is smuggled into a Russian prison o...  \n",
       "6   Villanelle finds herself trapped in a dangerou...  \n",
       "7   As Villanelle takes a hostage as a bargaining ...  \n",
       "8   Eve is reeling from her act of violence agains...  \n",
       "9   Villanelle finds a Good Samaritan to take her ...  \n",
       "10  Villanelle's circumstances are looking bleak; ...  \n",
       "11  After the discovery of another dead body, Eve ...  \n",
       "12  The MI6 team make a pact with the devil in ord...  \n",
       "13  Villanelle uses her unrivaled infiltration ski...  \n",
       "14  Eve may have worrying competition for Villanel...  \n",
       "15  Eve's mission is disastrously compromised; Car...  \n",
       "16  After Eve is shot by Villanelle, she's trying ...  \n",
       "17  Eve and Carolyn are reeling. Eve strikes up an...  \n",
       "18  Villanelle agrees to a job which will take her...  \n",
       "19  Eve is trying to patch things up with Niko; Vi...  \n",
       "20  Villanelle visits her family in Russia, and wh...  \n",
       "21  As the investigation continues, Carolyn finds ...  \n",
       "22  Lack of progress in the investigation is frust...  \n",
       "23  Konstantin tries to run; Eve and Villanelle tr...  "
      ]
     },
     "execution_count": 62,
     "metadata": {},
     "output_type": "execute_result"
    }
   ],
   "source": [
    "df"
   ]
  },
  {
   "cell_type": "markdown",
   "metadata": {},
   "source": [
    "# Adding a couple more columns for seasons and episodes (3 seasons and 8 episodes per season)"
   ]
  },
  {
   "cell_type": "code",
   "execution_count": 92,
   "metadata": {},
   "outputs": [],
   "source": [
    "def get_year(date):\n",
    "    if date==2018:\n",
    "        return 1\n",
    "    elif date==2019:\n",
    "        return 2\n",
    "    elif date==2020:\n",
    "        return 3"
   ]
  },
  {
   "cell_type": "code",
   "execution_count": 93,
   "metadata": {},
   "outputs": [],
   "source": [
    "df['Season']=df['Year'].apply(lambda x:get_year(x))"
   ]
  },
  {
   "cell_type": "code",
   "execution_count": 200,
   "metadata": {},
   "outputs": [
    {
     "name": "stdout",
     "output_type": "stream",
     "text": [
      "1\n",
      "2\n",
      "3\n",
      "4\n",
      "5\n",
      "6\n",
      "7\n",
      "8\n",
      "1\n",
      "2\n",
      "3\n",
      "4\n",
      "5\n",
      "6\n",
      "7\n",
      "8\n",
      "1\n",
      "2\n",
      "3\n",
      "4\n",
      "5\n",
      "6\n",
      "7\n",
      "8\n"
     ]
    }
   ],
   "source": [
    "episodes=[]\n",
    "for season in range(1,4):\n",
    "    for i in range(1,9):\n",
    "        print(i)\n",
    "        episodes.append(i)\n",
    "        \n",
    "        "
   ]
  },
  {
   "cell_type": "code",
   "execution_count": 202,
   "metadata": {},
   "outputs": [],
   "source": [
    "df['Episodes']=episodes"
   ]
  },
  {
   "cell_type": "code",
   "execution_count": 205,
   "metadata": {},
   "outputs": [],
   "source": [
    "df.drop('Episode',axis=1,inplace=True)"
   ]
  },
  {
   "cell_type": "code",
   "execution_count": 212,
   "metadata": {},
   "outputs": [
    {
     "data": {
      "text/html": [
       "<div>\n",
       "<style scoped>\n",
       "    .dataframe tbody tr th:only-of-type {\n",
       "        vertical-align: middle;\n",
       "    }\n",
       "\n",
       "    .dataframe tbody tr th {\n",
       "        vertical-align: top;\n",
       "    }\n",
       "\n",
       "    .dataframe thead th {\n",
       "        text-align: right;\n",
       "    }\n",
       "</style>\n",
       "<table border=\"1\" class=\"dataframe\">\n",
       "  <thead>\n",
       "    <tr style=\"text-align: right;\">\n",
       "      <th></th>\n",
       "      <th>Date</th>\n",
       "      <th>Title</th>\n",
       "      <th>Rating</th>\n",
       "      <th>Total Votes</th>\n",
       "      <th>Description</th>\n",
       "      <th>Year</th>\n",
       "      <th>Season</th>\n",
       "      <th>Episodes</th>\n",
       "    </tr>\n",
       "  </thead>\n",
       "  <tbody>\n",
       "    <tr>\n",
       "      <th>0</th>\n",
       "      <td>2018-09-15</td>\n",
       "      <td>Nice Face</td>\n",
       "      <td>8.7</td>\n",
       "      <td>(3,933)</td>\n",
       "      <td>When a Russian politician is murdered, a bored...</td>\n",
       "      <td>2018</td>\n",
       "      <td>1</td>\n",
       "      <td>1</td>\n",
       "    </tr>\n",
       "    <tr>\n",
       "      <th>1</th>\n",
       "      <td>2018-09-22</td>\n",
       "      <td>I'll Deal with Him Later</td>\n",
       "      <td>8.6</td>\n",
       "      <td>(3,532)</td>\n",
       "      <td>Eve is given the opportunity to lead a secret ...</td>\n",
       "      <td>2018</td>\n",
       "      <td>1</td>\n",
       "      <td>2</td>\n",
       "    </tr>\n",
       "    <tr>\n",
       "      <th>2</th>\n",
       "      <td>2018-09-29</td>\n",
       "      <td>Don't I Know You?</td>\n",
       "      <td>8.7</td>\n",
       "      <td>(3,480)</td>\n",
       "      <td>After a killing in Berlin, Eve and Bill travel...</td>\n",
       "      <td>2018</td>\n",
       "      <td>1</td>\n",
       "      <td>3</td>\n",
       "    </tr>\n",
       "    <tr>\n",
       "      <th>3</th>\n",
       "      <td>2018-10-06</td>\n",
       "      <td>Sorry Baby</td>\n",
       "      <td>8.7</td>\n",
       "      <td>(3,341)</td>\n",
       "      <td>A grieving Eve learns about the apparent exist...</td>\n",
       "      <td>2018</td>\n",
       "      <td>1</td>\n",
       "      <td>4</td>\n",
       "    </tr>\n",
       "    <tr>\n",
       "      <th>4</th>\n",
       "      <td>2018-10-13</td>\n",
       "      <td>I Have a Thing About Bathrooms</td>\n",
       "      <td>8.7</td>\n",
       "      <td>(2,867)</td>\n",
       "      <td>After a terrifying close call with Villanelle,...</td>\n",
       "      <td>2018</td>\n",
       "      <td>1</td>\n",
       "      <td>5</td>\n",
       "    </tr>\n",
       "    <tr>\n",
       "      <th>5</th>\n",
       "      <td>2018-10-20</td>\n",
       "      <td>Take Me to the Hole!</td>\n",
       "      <td>8.3</td>\n",
       "      <td>(2,580)</td>\n",
       "      <td>Villanelle is smuggled into a Russian prison o...</td>\n",
       "      <td>2018</td>\n",
       "      <td>1</td>\n",
       "      <td>6</td>\n",
       "    </tr>\n",
       "    <tr>\n",
       "      <th>6</th>\n",
       "      <td>2018-10-27</td>\n",
       "      <td>I Don't Want to Be Free</td>\n",
       "      <td>8.5</td>\n",
       "      <td>(2,518)</td>\n",
       "      <td>Villanelle finds herself trapped in a dangerou...</td>\n",
       "      <td>2018</td>\n",
       "      <td>1</td>\n",
       "      <td>7</td>\n",
       "    </tr>\n",
       "    <tr>\n",
       "      <th>7</th>\n",
       "      <td>2018-11-03</td>\n",
       "      <td>God, I'm Tired</td>\n",
       "      <td>8.5</td>\n",
       "      <td>(2,856)</td>\n",
       "      <td>As Villanelle takes a hostage as a bargaining ...</td>\n",
       "      <td>2018</td>\n",
       "      <td>1</td>\n",
       "      <td>8</td>\n",
       "    </tr>\n",
       "    <tr>\n",
       "      <th>8</th>\n",
       "      <td>2019-06-08</td>\n",
       "      <td>Do You Know How to Dispose of a Body?</td>\n",
       "      <td>8.4</td>\n",
       "      <td>(2,314)</td>\n",
       "      <td>Eve is reeling from her act of violence agains...</td>\n",
       "      <td>2019</td>\n",
       "      <td>2</td>\n",
       "      <td>1</td>\n",
       "    </tr>\n",
       "    <tr>\n",
       "      <th>9</th>\n",
       "      <td>2019-06-15</td>\n",
       "      <td>Nice and Neat</td>\n",
       "      <td>8.3</td>\n",
       "      <td>(1,990)</td>\n",
       "      <td>Villanelle finds a Good Samaritan to take her ...</td>\n",
       "      <td>2019</td>\n",
       "      <td>2</td>\n",
       "      <td>2</td>\n",
       "    </tr>\n",
       "    <tr>\n",
       "      <th>10</th>\n",
       "      <td>2019-06-22</td>\n",
       "      <td>The Hungry Caterpillar</td>\n",
       "      <td>8.3</td>\n",
       "      <td>(1,864)</td>\n",
       "      <td>Villanelle's circumstances are looking bleak; ...</td>\n",
       "      <td>2019</td>\n",
       "      <td>2</td>\n",
       "      <td>3</td>\n",
       "    </tr>\n",
       "    <tr>\n",
       "      <th>11</th>\n",
       "      <td>2019-06-29</td>\n",
       "      <td>Desperate Times</td>\n",
       "      <td>8.4</td>\n",
       "      <td>(1,817)</td>\n",
       "      <td>After the discovery of another dead body, Eve ...</td>\n",
       "      <td>2019</td>\n",
       "      <td>2</td>\n",
       "      <td>4</td>\n",
       "    </tr>\n",
       "    <tr>\n",
       "      <th>12</th>\n",
       "      <td>2019-07-06</td>\n",
       "      <td>Smell Ya Later</td>\n",
       "      <td>8.4</td>\n",
       "      <td>(1,842)</td>\n",
       "      <td>The MI6 team make a pact with the devil in ord...</td>\n",
       "      <td>2019</td>\n",
       "      <td>2</td>\n",
       "      <td>5</td>\n",
       "    </tr>\n",
       "    <tr>\n",
       "      <th>13</th>\n",
       "      <td>2019-07-13</td>\n",
       "      <td>I Hope You Like Missionary!</td>\n",
       "      <td>8.4</td>\n",
       "      <td>(1,751)</td>\n",
       "      <td>Villanelle uses her unrivaled infiltration ski...</td>\n",
       "      <td>2019</td>\n",
       "      <td>2</td>\n",
       "      <td>6</td>\n",
       "    </tr>\n",
       "    <tr>\n",
       "      <th>14</th>\n",
       "      <td>2019-07-20</td>\n",
       "      <td>Wide Awake</td>\n",
       "      <td>8.6</td>\n",
       "      <td>(1,764)</td>\n",
       "      <td>Eve may have worrying competition for Villanel...</td>\n",
       "      <td>2019</td>\n",
       "      <td>2</td>\n",
       "      <td>7</td>\n",
       "    </tr>\n",
       "    <tr>\n",
       "      <th>15</th>\n",
       "      <td>2019-07-27</td>\n",
       "      <td>You're Mine</td>\n",
       "      <td>8.8</td>\n",
       "      <td>(2,197)</td>\n",
       "      <td>Eve's mission is disastrously compromised; Car...</td>\n",
       "      <td>2019</td>\n",
       "      <td>2</td>\n",
       "      <td>8</td>\n",
       "    </tr>\n",
       "    <tr>\n",
       "      <th>16</th>\n",
       "      <td>2020-04-13</td>\n",
       "      <td>Slowly Slowly Catchy Monkey</td>\n",
       "      <td>7.6</td>\n",
       "      <td>(1,557)</td>\n",
       "      <td>After Eve is shot by Villanelle, she's trying ...</td>\n",
       "      <td>2020</td>\n",
       "      <td>3</td>\n",
       "      <td>1</td>\n",
       "    </tr>\n",
       "    <tr>\n",
       "      <th>17</th>\n",
       "      <td>2020-04-20</td>\n",
       "      <td>Management Sucks</td>\n",
       "      <td>7.7</td>\n",
       "      <td>(1,320)</td>\n",
       "      <td>Eve and Carolyn are reeling. Eve strikes up an...</td>\n",
       "      <td>2020</td>\n",
       "      <td>3</td>\n",
       "      <td>2</td>\n",
       "    </tr>\n",
       "    <tr>\n",
       "      <th>18</th>\n",
       "      <td>2020-04-27</td>\n",
       "      <td>Meetings Have Biscuits</td>\n",
       "      <td>8.5</td>\n",
       "      <td>(1,448)</td>\n",
       "      <td>Villanelle agrees to a job which will take her...</td>\n",
       "      <td>2020</td>\n",
       "      <td>3</td>\n",
       "      <td>3</td>\n",
       "    </tr>\n",
       "    <tr>\n",
       "      <th>19</th>\n",
       "      <td>2020-05-04</td>\n",
       "      <td>Still Got It</td>\n",
       "      <td>8.1</td>\n",
       "      <td>(1,152)</td>\n",
       "      <td>Eve is trying to patch things up with Niko; Vi...</td>\n",
       "      <td>2020</td>\n",
       "      <td>3</td>\n",
       "      <td>4</td>\n",
       "    </tr>\n",
       "    <tr>\n",
       "      <th>20</th>\n",
       "      <td>2020-05-11</td>\n",
       "      <td>Are You from Pinner?</td>\n",
       "      <td>8.4</td>\n",
       "      <td>(1,441)</td>\n",
       "      <td>Villanelle visits her family in Russia, and wh...</td>\n",
       "      <td>2020</td>\n",
       "      <td>3</td>\n",
       "      <td>5</td>\n",
       "    </tr>\n",
       "    <tr>\n",
       "      <th>21</th>\n",
       "      <td>2020-05-18</td>\n",
       "      <td>End of Game</td>\n",
       "      <td>7.5</td>\n",
       "      <td>(954)</td>\n",
       "      <td>As the investigation continues, Carolyn finds ...</td>\n",
       "      <td>2020</td>\n",
       "      <td>3</td>\n",
       "      <td>6</td>\n",
       "    </tr>\n",
       "    <tr>\n",
       "      <th>22</th>\n",
       "      <td>2020-05-25</td>\n",
       "      <td>Beautiful Monster</td>\n",
       "      <td>8.1</td>\n",
       "      <td>(966)</td>\n",
       "      <td>Lack of progress in the investigation is frust...</td>\n",
       "      <td>2020</td>\n",
       "      <td>3</td>\n",
       "      <td>7</td>\n",
       "    </tr>\n",
       "    <tr>\n",
       "      <th>23</th>\n",
       "      <td>2020-06-01</td>\n",
       "      <td>Are You Leading or Am I?</td>\n",
       "      <td>8.5</td>\n",
       "      <td>(1,257)</td>\n",
       "      <td>Konstantin tries to run; Eve and Villanelle tr...</td>\n",
       "      <td>2020</td>\n",
       "      <td>3</td>\n",
       "      <td>8</td>\n",
       "    </tr>\n",
       "  </tbody>\n",
       "</table>\n",
       "</div>"
      ],
      "text/plain": [
       "         Date                                  Title  Rating Total Votes  \\\n",
       "0  2018-09-15                              Nice Face     8.7     (3,933)   \n",
       "1  2018-09-22               I'll Deal with Him Later     8.6     (3,532)   \n",
       "2  2018-09-29                      Don't I Know You?     8.7     (3,480)   \n",
       "3  2018-10-06                             Sorry Baby     8.7     (3,341)   \n",
       "4  2018-10-13         I Have a Thing About Bathrooms     8.7     (2,867)   \n",
       "5  2018-10-20                   Take Me to the Hole!     8.3     (2,580)   \n",
       "6  2018-10-27                I Don't Want to Be Free     8.5     (2,518)   \n",
       "7  2018-11-03                         God, I'm Tired     8.5     (2,856)   \n",
       "8  2019-06-08  Do You Know How to Dispose of a Body?     8.4     (2,314)   \n",
       "9  2019-06-15                          Nice and Neat     8.3     (1,990)   \n",
       "10 2019-06-22                 The Hungry Caterpillar     8.3     (1,864)   \n",
       "11 2019-06-29                        Desperate Times     8.4     (1,817)   \n",
       "12 2019-07-06                         Smell Ya Later     8.4     (1,842)   \n",
       "13 2019-07-13            I Hope You Like Missionary!     8.4     (1,751)   \n",
       "14 2019-07-20                             Wide Awake     8.6     (1,764)   \n",
       "15 2019-07-27                            You're Mine     8.8     (2,197)   \n",
       "16 2020-04-13            Slowly Slowly Catchy Monkey     7.6     (1,557)   \n",
       "17 2020-04-20                       Management Sucks     7.7     (1,320)   \n",
       "18 2020-04-27                 Meetings Have Biscuits     8.5     (1,448)   \n",
       "19 2020-05-04                           Still Got It     8.1     (1,152)   \n",
       "20 2020-05-11                   Are You from Pinner?     8.4     (1,441)   \n",
       "21 2020-05-18                            End of Game     7.5       (954)   \n",
       "22 2020-05-25                      Beautiful Monster     8.1       (966)   \n",
       "23 2020-06-01               Are You Leading or Am I?     8.5     (1,257)   \n",
       "\n",
       "                                          Description  Year  Season  Episodes  \n",
       "0   When a Russian politician is murdered, a bored...  2018       1         1  \n",
       "1   Eve is given the opportunity to lead a secret ...  2018       1         2  \n",
       "2   After a killing in Berlin, Eve and Bill travel...  2018       1         3  \n",
       "3   A grieving Eve learns about the apparent exist...  2018       1         4  \n",
       "4   After a terrifying close call with Villanelle,...  2018       1         5  \n",
       "5   Villanelle is smuggled into a Russian prison o...  2018       1         6  \n",
       "6   Villanelle finds herself trapped in a dangerou...  2018       1         7  \n",
       "7   As Villanelle takes a hostage as a bargaining ...  2018       1         8  \n",
       "8   Eve is reeling from her act of violence agains...  2019       2         1  \n",
       "9   Villanelle finds a Good Samaritan to take her ...  2019       2         2  \n",
       "10  Villanelle's circumstances are looking bleak; ...  2019       2         3  \n",
       "11  After the discovery of another dead body, Eve ...  2019       2         4  \n",
       "12  The MI6 team make a pact with the devil in ord...  2019       2         5  \n",
       "13  Villanelle uses her unrivaled infiltration ski...  2019       2         6  \n",
       "14  Eve may have worrying competition for Villanel...  2019       2         7  \n",
       "15  Eve's mission is disastrously compromised; Car...  2019       2         8  \n",
       "16  After Eve is shot by Villanelle, she's trying ...  2020       3         1  \n",
       "17  Eve and Carolyn are reeling. Eve strikes up an...  2020       3         2  \n",
       "18  Villanelle agrees to a job which will take her...  2020       3         3  \n",
       "19  Eve is trying to patch things up with Niko; Vi...  2020       3         4  \n",
       "20  Villanelle visits her family in Russia, and wh...  2020       3         5  \n",
       "21  As the investigation continues, Carolyn finds ...  2020       3         6  \n",
       "22  Lack of progress in the investigation is frust...  2020       3         7  \n",
       "23  Konstantin tries to run; Eve and Villanelle tr...  2020       3         8  "
      ]
     },
     "execution_count": 212,
     "metadata": {},
     "output_type": "execute_result"
    }
   ],
   "source": [
    "df"
   ]
  },
  {
   "cell_type": "markdown",
   "metadata": {},
   "source": [
    "# EDA"
   ]
  },
  {
   "cell_type": "code",
   "execution_count": 219,
   "metadata": {},
   "outputs": [],
   "source": [
    "ratings=pd.pivot_table(data=df,values='Rating',index='Season',columns='Episodes')"
   ]
  },
  {
   "cell_type": "code",
   "execution_count": 260,
   "metadata": {},
   "outputs": [],
   "source": [
    "n_colors = 256 \n",
    "palette = sns.diverging_palette(20, 220, n=n_colors)"
   ]
  },
  {
   "cell_type": "code",
   "execution_count": 278,
   "metadata": {},
   "outputs": [
    {
     "data": {
      "text/plain": [
       "Text(159.0, 0.5, 'Seasons')"
      ]
     },
     "execution_count": 278,
     "metadata": {},
     "output_type": "execute_result"
    },
    {
     "data": {
      "image/png": "[encoded data removed]",
      "text/plain": [
       "<Figure size 1440x576 with 2 Axes>"
      ]
     },
     "metadata": {
      "needs_background": "light"
     },
     "output_type": "display_data"
    }
   ],
   "source": [
    "plt.figure(figsize=(20,8))\n",
    "sns.heatmap(ratings,annot=True,cmap=palette,fmt='.2g',annot_kws={'size':18})\n",
    "plt.title('Killing Eve Imbd Episode Ratings per season',fontsize=25)\n",
    "plt.xticks(fontsize=15)\n",
    "plt.yticks(fontsize=15,rotation='horizontal')\n",
    "plt.xlabel('Episodes', fontsize=15) \n",
    "plt.ylabel('Seasons', fontsize=15) "
   ]
  },
  {
   "cell_type": "code",
   "execution_count": 307,
   "metadata": {},
   "outputs": [
    {
     "data": {
      "text/plain": [
       "(array([ 0.,  2.,  4.,  6.,  8., 10.]), <a list of 6 Text yticklabel objects>)"
      ]
     },
     "execution_count": 307,
     "metadata": {},
     "output_type": "execute_result"
    },
    {
     "data": {
      "image/png": "[encoded data removed]",
      "text/plain": [
       "<Figure size 360x504 with 1 Axes>"
      ]
     },
     "metadata": {},
     "output_type": "display_data"
    }
   ],
   "source": [
    "sns.set_style('dark')\n",
    "plt.figure(figsize=(5,7))\n",
    "sns.barplot(x='Season',y='Rating',data=df,palette=\"Blues_d\")\n",
    "plt.title('Average Rating per season',fontsize=20,fontstyle='italic')\n",
    "plt.xlabel('Season',fontsize=15)\n",
    "plt.xticks(fontsize=15)\n",
    "plt.ylabel('Avg rating',fontsize=15)\n",
    "plt.yticks(fontsize=15)\n"
   ]
  },
  {
   "cell_type": "code",
   "execution_count": 316,
   "metadata": {},
   "outputs": [],
   "source": [
    "df['Total Votes']=df['Total Votes'].str.strip('()')\n"
   ]
  },
  {
   "cell_type": "code",
   "execution_count": 326,
   "metadata": {},
   "outputs": [],
   "source": [
    "df['Total Votes']=df['Total Votes'].str.replace((','),'')\n",
    "df['Total Votes']=pd.to_numeric(df['Total Votes'])"
   ]
  },
  {
   "cell_type": "code",
   "execution_count": 362,
   "metadata": {},
   "outputs": [
    {
     "data": {
      "text/plain": [
       "Text(0, 0.5, 'Total Votes')"
      ]
     },
     "execution_count": 362,
     "metadata": {},
     "output_type": "execute_result"
    },
    {
     "data": {
      "image/png": "[encoded data removed]",
      "text/plain": [
       "<Figure size 1080x576 with 1 Axes>"
      ]
     },
     "metadata": {},
     "output_type": "display_data"
    }
   ],
   "source": [
    "plt.figure(figsize=(15,8))\n",
    "plt.scatter(x='Rating',y='Total Votes',data=df,linewidth=2,color='blue',alpha=0.8,edgecolors='black')\n",
    "plt.title('Ratings vs Total Votes',fontsize=20)\n",
    "plt.xlabel('Ratings',fontsize=16)\n",
    "plt.ylabel('Total Votes',fontsize=16)"
   ]
  },
  {
   "cell_type": "code",
   "execution_count": null,
   "metadata": {},
   "outputs": [],
   "source": []
  }
 ],
 "metadata": {
  "kernelspec": {
   "display_name": "Python 3",
   "language": "python",
   "name": "python3"
  },
  "language_info": {
   "codemirror_mode": {
    "name": "ipython",
    "version": 3
   },
   "file_extension": ".py",
   "mimetype": "text/x-python",
   "name": "python",
   "nbconvert_exporter": "python",
   "pygments_lexer": "ipython3",
   "version": "3.7.6"
  }
 },
 "nbformat": 4,
 "nbformat_minor": 4
}
